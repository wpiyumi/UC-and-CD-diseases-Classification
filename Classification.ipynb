{
 "cells": [
  {
   "cell_type": "code",
   "execution_count": 1,
   "metadata": {},
   "outputs": [],
   "source": [
    "import numpy as np\n",
    "import pandas as pd\n",
    "import matplotlib.pyplot as plt\n",
    "import seaborn as sns"
   ]
  },
  {
   "cell_type": "markdown",
   "metadata": {},
   "source": [
    "### Upload data"
   ]
  },
  {
   "cell_type": "code",
   "execution_count": 2,
   "metadata": {},
   "outputs": [],
   "source": [
    "xl_file = pd.ExcelFile(\"data/inflammatory_bowel_disease.xlsx\")"
   ]
  },
  {
   "cell_type": "code",
   "execution_count": 3,
   "metadata": {},
   "outputs": [],
   "source": [
    "data = xl_file.parse('Sheet1')"
   ]
  },
  {
   "cell_type": "code",
   "execution_count": 4,
   "metadata": {},
   "outputs": [
    {
     "data": {
      "text/html": [
       "<div>\n",
       "<style scoped>\n",
       "    .dataframe tbody tr th:only-of-type {\n",
       "        vertical-align: middle;\n",
       "    }\n",
       "\n",
       "    .dataframe tbody tr th {\n",
       "        vertical-align: top;\n",
       "    }\n",
       "\n",
       "    .dataframe thead th {\n",
       "        text-align: right;\n",
       "    }\n",
       "</style>\n",
       "<table border=\"1\" class=\"dataframe\">\n",
       "  <thead>\n",
       "    <tr style=\"text-align: right;\">\n",
       "      <th></th>\n",
       "      <th>Group</th>\n",
       "      <th>Age</th>\n",
       "      <th>Ethnicity</th>\n",
       "      <th>Sex</th>\n",
       "      <th>200006_at</th>\n",
       "      <th>200091_s_at</th>\n",
       "      <th>200660_at</th>\n",
       "      <th>200704_at</th>\n",
       "      <th>200706_s_at</th>\n",
       "      <th>200779_at</th>\n",
       "      <th>...</th>\n",
       "      <th>221085_at</th>\n",
       "      <th>221092_at</th>\n",
       "      <th>221111_at</th>\n",
       "      <th>221165_s_at</th>\n",
       "      <th>221331_x_at</th>\n",
       "      <th>221371_at</th>\n",
       "      <th>221690_s_at</th>\n",
       "      <th>222292_at</th>\n",
       "      <th>35150_at</th>\n",
       "      <th>40273_at</th>\n",
       "    </tr>\n",
       "  </thead>\n",
       "  <tbody>\n",
       "    <tr>\n",
       "      <td>0</td>\n",
       "      <td>Ulcerative Colitis</td>\n",
       "      <td>25</td>\n",
       "      <td>caucasian</td>\n",
       "      <td>female</td>\n",
       "      <td>1066.743652</td>\n",
       "      <td>3438.648926</td>\n",
       "      <td>197.507767</td>\n",
       "      <td>1836.721680</td>\n",
       "      <td>955.033936</td>\n",
       "      <td>2947.250244</td>\n",
       "      <td>...</td>\n",
       "      <td>6.984630</td>\n",
       "      <td>2.943779</td>\n",
       "      <td>0.394986</td>\n",
       "      <td>49.597721</td>\n",
       "      <td>37.127441</td>\n",
       "      <td>25.306889</td>\n",
       "      <td>64.756462</td>\n",
       "      <td>19.020729</td>\n",
       "      <td>141.292740</td>\n",
       "      <td>6.059303</td>\n",
       "    </tr>\n",
       "    <tr>\n",
       "      <td>1</td>\n",
       "      <td>Crohn's Disease</td>\n",
       "      <td>46</td>\n",
       "      <td>caucasian</td>\n",
       "      <td>female</td>\n",
       "      <td>691.848511</td>\n",
       "      <td>1754.629028</td>\n",
       "      <td>511.375732</td>\n",
       "      <td>1921.327637</td>\n",
       "      <td>883.717041</td>\n",
       "      <td>2900.088379</td>\n",
       "      <td>...</td>\n",
       "      <td>16.313744</td>\n",
       "      <td>27.600016</td>\n",
       "      <td>1.423127</td>\n",
       "      <td>83.653114</td>\n",
       "      <td>25.552881</td>\n",
       "      <td>55.010540</td>\n",
       "      <td>98.586563</td>\n",
       "      <td>31.993961</td>\n",
       "      <td>203.378326</td>\n",
       "      <td>30.333281</td>\n",
       "    </tr>\n",
       "    <tr>\n",
       "      <td>2</td>\n",
       "      <td>Ulcerative Colitis</td>\n",
       "      <td>45</td>\n",
       "      <td>caucasian</td>\n",
       "      <td>male</td>\n",
       "      <td>1013.811218</td>\n",
       "      <td>2837.300293</td>\n",
       "      <td>398.175842</td>\n",
       "      <td>1363.131348</td>\n",
       "      <td>715.677734</td>\n",
       "      <td>1841.662231</td>\n",
       "      <td>...</td>\n",
       "      <td>21.288982</td>\n",
       "      <td>16.433182</td>\n",
       "      <td>1.492513</td>\n",
       "      <td>35.662075</td>\n",
       "      <td>51.398350</td>\n",
       "      <td>40.420418</td>\n",
       "      <td>33.374344</td>\n",
       "      <td>20.363697</td>\n",
       "      <td>297.299896</td>\n",
       "      <td>7.745946</td>\n",
       "    </tr>\n",
       "  </tbody>\n",
       "</table>\n",
       "<p>3 rows × 313 columns</p>\n",
       "</div>"
      ],
      "text/plain": [
       "                Group  Age  Ethnicity     Sex    200006_at  200091_s_at  \\\n",
       "0  Ulcerative Colitis   25  caucasian  female  1066.743652  3438.648926   \n",
       "1     Crohn's Disease   46  caucasian  female   691.848511  1754.629028   \n",
       "2  Ulcerative Colitis   45  caucasian    male  1013.811218  2837.300293   \n",
       "\n",
       "    200660_at    200704_at  200706_s_at    200779_at  ...  221085_at  \\\n",
       "0  197.507767  1836.721680   955.033936  2947.250244  ...   6.984630   \n",
       "1  511.375732  1921.327637   883.717041  2900.088379  ...  16.313744   \n",
       "2  398.175842  1363.131348   715.677734  1841.662231  ...  21.288982   \n",
       "\n",
       "   221092_at  221111_at  221165_s_at  221331_x_at  221371_at  221690_s_at  \\\n",
       "0   2.943779   0.394986    49.597721    37.127441  25.306889    64.756462   \n",
       "1  27.600016   1.423127    83.653114    25.552881  55.010540    98.586563   \n",
       "2  16.433182   1.492513    35.662075    51.398350  40.420418    33.374344   \n",
       "\n",
       "   222292_at    35150_at   40273_at  \n",
       "0  19.020729  141.292740   6.059303  \n",
       "1  31.993961  203.378326  30.333281  \n",
       "2  20.363697  297.299896   7.745946  \n",
       "\n",
       "[3 rows x 313 columns]"
      ]
     },
     "execution_count": 4,
     "metadata": {},
     "output_type": "execute_result"
    }
   ],
   "source": [
    "data.head(3)"
   ]
  },
  {
   "cell_type": "code",
   "execution_count": 5,
   "metadata": {},
   "outputs": [
    {
     "data": {
      "text/plain": [
       "(126, 313)"
      ]
     },
     "execution_count": 5,
     "metadata": {},
     "output_type": "execute_result"
    }
   ],
   "source": [
    "data.shape"
   ]
  },
  {
   "cell_type": "markdown",
   "metadata": {},
   "source": [
    "### Check for missing values"
   ]
  },
  {
   "cell_type": "code",
   "execution_count": 6,
   "metadata": {},
   "outputs": [
    {
     "data": {
      "text/plain": [
       "Index([], dtype='object')"
      ]
     },
     "execution_count": 6,
     "metadata": {},
     "output_type": "execute_result"
    }
   ],
   "source": [
    "# data.info(null_counts = True)\n",
    "data.columns[data.isnull().any()]"
   ]
  },
  {
   "cell_type": "code",
   "execution_count": 7,
   "metadata": {},
   "outputs": [
    {
     "data": {
      "text/html": [
       "<div>\n",
       "<style scoped>\n",
       "    .dataframe tbody tr th:only-of-type {\n",
       "        vertical-align: middle;\n",
       "    }\n",
       "\n",
       "    .dataframe tbody tr th {\n",
       "        vertical-align: top;\n",
       "    }\n",
       "\n",
       "    .dataframe thead th {\n",
       "        text-align: right;\n",
       "    }\n",
       "</style>\n",
       "<table border=\"1\" class=\"dataframe\">\n",
       "  <thead>\n",
       "    <tr style=\"text-align: right;\">\n",
       "      <th></th>\n",
       "      <th>Age</th>\n",
       "      <th>200006_at</th>\n",
       "      <th>200091_s_at</th>\n",
       "      <th>200660_at</th>\n",
       "      <th>200704_at</th>\n",
       "      <th>200706_s_at</th>\n",
       "      <th>200779_at</th>\n",
       "      <th>200887_s_at</th>\n",
       "      <th>200930_s_at</th>\n",
       "      <th>200931_s_at</th>\n",
       "      <th>...</th>\n",
       "      <th>221085_at</th>\n",
       "      <th>221092_at</th>\n",
       "      <th>221111_at</th>\n",
       "      <th>221165_s_at</th>\n",
       "      <th>221331_x_at</th>\n",
       "      <th>221371_at</th>\n",
       "      <th>221690_s_at</th>\n",
       "      <th>222292_at</th>\n",
       "      <th>35150_at</th>\n",
       "      <th>40273_at</th>\n",
       "    </tr>\n",
       "  </thead>\n",
       "  <tbody>\n",
       "    <tr>\n",
       "      <td>count</td>\n",
       "      <td>126.000000</td>\n",
       "      <td>126.000000</td>\n",
       "      <td>126.000000</td>\n",
       "      <td>126.000000</td>\n",
       "      <td>126.000000</td>\n",
       "      <td>126.000000</td>\n",
       "      <td>126.000000</td>\n",
       "      <td>126.000000</td>\n",
       "      <td>126.000000</td>\n",
       "      <td>126.000000</td>\n",
       "      <td>...</td>\n",
       "      <td>126.000000</td>\n",
       "      <td>126.000000</td>\n",
       "      <td>126.000000</td>\n",
       "      <td>126.000000</td>\n",
       "      <td>126.000000</td>\n",
       "      <td>126.000000</td>\n",
       "      <td>126.000000</td>\n",
       "      <td>126.000000</td>\n",
       "      <td>126.000000</td>\n",
       "      <td>126.000000</td>\n",
       "    </tr>\n",
       "    <tr>\n",
       "      <td>mean</td>\n",
       "      <td>43.349206</td>\n",
       "      <td>1215.801751</td>\n",
       "      <td>2745.052740</td>\n",
       "      <td>516.310863</td>\n",
       "      <td>1749.067034</td>\n",
       "      <td>767.372498</td>\n",
       "      <td>2219.352499</td>\n",
       "      <td>343.995431</td>\n",
       "      <td>12.342073</td>\n",
       "      <td>1264.644157</td>\n",
       "      <td>...</td>\n",
       "      <td>9.447770</td>\n",
       "      <td>13.732901</td>\n",
       "      <td>1.510830</td>\n",
       "      <td>35.238830</td>\n",
       "      <td>35.437796</td>\n",
       "      <td>28.240388</td>\n",
       "      <td>28.911873</td>\n",
       "      <td>24.122545</td>\n",
       "      <td>187.727344</td>\n",
       "      <td>12.405966</td>\n",
       "    </tr>\n",
       "    <tr>\n",
       "      <td>std</td>\n",
       "      <td>11.867480</td>\n",
       "      <td>254.809757</td>\n",
       "      <td>529.395962</td>\n",
       "      <td>406.843221</td>\n",
       "      <td>547.203739</td>\n",
       "      <td>226.676809</td>\n",
       "      <td>484.185046</td>\n",
       "      <td>167.163730</td>\n",
       "      <td>9.508315</td>\n",
       "      <td>544.953499</td>\n",
       "      <td>...</td>\n",
       "      <td>4.699025</td>\n",
       "      <td>6.851094</td>\n",
       "      <td>1.637212</td>\n",
       "      <td>13.537013</td>\n",
       "      <td>13.129093</td>\n",
       "      <td>10.523375</td>\n",
       "      <td>17.698536</td>\n",
       "      <td>7.937837</td>\n",
       "      <td>44.367665</td>\n",
       "      <td>9.094164</td>\n",
       "    </tr>\n",
       "    <tr>\n",
       "      <td>min</td>\n",
       "      <td>20.000000</td>\n",
       "      <td>690.489563</td>\n",
       "      <td>1457.362671</td>\n",
       "      <td>98.147346</td>\n",
       "      <td>760.198120</td>\n",
       "      <td>285.731995</td>\n",
       "      <td>1321.986572</td>\n",
       "      <td>134.746964</td>\n",
       "      <td>1.851470</td>\n",
       "      <td>439.081696</td>\n",
       "      <td>...</td>\n",
       "      <td>0.848673</td>\n",
       "      <td>2.054569</td>\n",
       "      <td>0.146600</td>\n",
       "      <td>9.248687</td>\n",
       "      <td>2.612904</td>\n",
       "      <td>7.441447</td>\n",
       "      <td>2.366859</td>\n",
       "      <td>3.948824</td>\n",
       "      <td>112.036255</td>\n",
       "      <td>3.060528</td>\n",
       "    </tr>\n",
       "    <tr>\n",
       "      <td>25%</td>\n",
       "      <td>33.000000</td>\n",
       "      <td>1044.238404</td>\n",
       "      <td>2400.353638</td>\n",
       "      <td>220.896386</td>\n",
       "      <td>1302.133819</td>\n",
       "      <td>628.939362</td>\n",
       "      <td>1927.020294</td>\n",
       "      <td>234.164978</td>\n",
       "      <td>3.916158</td>\n",
       "      <td>851.149353</td>\n",
       "      <td>...</td>\n",
       "      <td>5.693006</td>\n",
       "      <td>8.187149</td>\n",
       "      <td>0.555453</td>\n",
       "      <td>25.359546</td>\n",
       "      <td>28.122322</td>\n",
       "      <td>21.767292</td>\n",
       "      <td>14.451027</td>\n",
       "      <td>18.589443</td>\n",
       "      <td>156.227955</td>\n",
       "      <td>7.058083</td>\n",
       "    </tr>\n",
       "    <tr>\n",
       "      <td>50%</td>\n",
       "      <td>44.000000</td>\n",
       "      <td>1180.693298</td>\n",
       "      <td>2716.941650</td>\n",
       "      <td>397.264038</td>\n",
       "      <td>1648.126160</td>\n",
       "      <td>743.295319</td>\n",
       "      <td>2166.063843</td>\n",
       "      <td>300.076157</td>\n",
       "      <td>9.645253</td>\n",
       "      <td>1213.802063</td>\n",
       "      <td>...</td>\n",
       "      <td>9.381419</td>\n",
       "      <td>13.800381</td>\n",
       "      <td>0.909731</td>\n",
       "      <td>33.918798</td>\n",
       "      <td>33.862603</td>\n",
       "      <td>27.991096</td>\n",
       "      <td>29.344338</td>\n",
       "      <td>23.907126</td>\n",
       "      <td>180.671555</td>\n",
       "      <td>9.227654</td>\n",
       "    </tr>\n",
       "    <tr>\n",
       "      <td>75%</td>\n",
       "      <td>52.750000</td>\n",
       "      <td>1332.719116</td>\n",
       "      <td>3029.496643</td>\n",
       "      <td>652.917862</td>\n",
       "      <td>2149.108398</td>\n",
       "      <td>907.380081</td>\n",
       "      <td>2415.435730</td>\n",
       "      <td>403.114700</td>\n",
       "      <td>18.767180</td>\n",
       "      <td>1549.647308</td>\n",
       "      <td>...</td>\n",
       "      <td>12.835523</td>\n",
       "      <td>18.410686</td>\n",
       "      <td>1.579755</td>\n",
       "      <td>42.343691</td>\n",
       "      <td>42.372014</td>\n",
       "      <td>34.369474</td>\n",
       "      <td>40.517549</td>\n",
       "      <td>29.057170</td>\n",
       "      <td>206.271896</td>\n",
       "      <td>13.175500</td>\n",
       "    </tr>\n",
       "    <tr>\n",
       "      <td>max</td>\n",
       "      <td>73.000000</td>\n",
       "      <td>2042.485352</td>\n",
       "      <td>4619.833496</td>\n",
       "      <td>2179.448975</td>\n",
       "      <td>3413.215820</td>\n",
       "      <td>1471.550293</td>\n",
       "      <td>4676.083496</td>\n",
       "      <td>1212.880737</td>\n",
       "      <td>40.837177</td>\n",
       "      <td>3346.568115</td>\n",
       "      <td>...</td>\n",
       "      <td>21.569151</td>\n",
       "      <td>27.727972</td>\n",
       "      <td>7.835695</td>\n",
       "      <td>85.354797</td>\n",
       "      <td>81.683067</td>\n",
       "      <td>57.610249</td>\n",
       "      <td>98.586563</td>\n",
       "      <td>48.069141</td>\n",
       "      <td>388.248810</td>\n",
       "      <td>50.327541</td>\n",
       "    </tr>\n",
       "  </tbody>\n",
       "</table>\n",
       "<p>8 rows × 310 columns</p>\n",
       "</div>"
      ],
      "text/plain": [
       "              Age    200006_at  200091_s_at    200660_at    200704_at  \\\n",
       "count  126.000000   126.000000   126.000000   126.000000   126.000000   \n",
       "mean    43.349206  1215.801751  2745.052740   516.310863  1749.067034   \n",
       "std     11.867480   254.809757   529.395962   406.843221   547.203739   \n",
       "min     20.000000   690.489563  1457.362671    98.147346   760.198120   \n",
       "25%     33.000000  1044.238404  2400.353638   220.896386  1302.133819   \n",
       "50%     44.000000  1180.693298  2716.941650   397.264038  1648.126160   \n",
       "75%     52.750000  1332.719116  3029.496643   652.917862  2149.108398   \n",
       "max     73.000000  2042.485352  4619.833496  2179.448975  3413.215820   \n",
       "\n",
       "       200706_s_at    200779_at  200887_s_at  200930_s_at  200931_s_at  ...  \\\n",
       "count   126.000000   126.000000   126.000000   126.000000   126.000000  ...   \n",
       "mean    767.372498  2219.352499   343.995431    12.342073  1264.644157  ...   \n",
       "std     226.676809   484.185046   167.163730     9.508315   544.953499  ...   \n",
       "min     285.731995  1321.986572   134.746964     1.851470   439.081696  ...   \n",
       "25%     628.939362  1927.020294   234.164978     3.916158   851.149353  ...   \n",
       "50%     743.295319  2166.063843   300.076157     9.645253  1213.802063  ...   \n",
       "75%     907.380081  2415.435730   403.114700    18.767180  1549.647308  ...   \n",
       "max    1471.550293  4676.083496  1212.880737    40.837177  3346.568115  ...   \n",
       "\n",
       "        221085_at   221092_at   221111_at  221165_s_at  221331_x_at  \\\n",
       "count  126.000000  126.000000  126.000000   126.000000   126.000000   \n",
       "mean     9.447770   13.732901    1.510830    35.238830    35.437796   \n",
       "std      4.699025    6.851094    1.637212    13.537013    13.129093   \n",
       "min      0.848673    2.054569    0.146600     9.248687     2.612904   \n",
       "25%      5.693006    8.187149    0.555453    25.359546    28.122322   \n",
       "50%      9.381419   13.800381    0.909731    33.918798    33.862603   \n",
       "75%     12.835523   18.410686    1.579755    42.343691    42.372014   \n",
       "max     21.569151   27.727972    7.835695    85.354797    81.683067   \n",
       "\n",
       "        221371_at  221690_s_at   222292_at    35150_at    40273_at  \n",
       "count  126.000000   126.000000  126.000000  126.000000  126.000000  \n",
       "mean    28.240388    28.911873   24.122545  187.727344   12.405966  \n",
       "std     10.523375    17.698536    7.937837   44.367665    9.094164  \n",
       "min      7.441447     2.366859    3.948824  112.036255    3.060528  \n",
       "25%     21.767292    14.451027   18.589443  156.227955    7.058083  \n",
       "50%     27.991096    29.344338   23.907126  180.671555    9.227654  \n",
       "75%     34.369474    40.517549   29.057170  206.271896   13.175500  \n",
       "max     57.610249    98.586563   48.069141  388.248810   50.327541  \n",
       "\n",
       "[8 rows x 310 columns]"
      ]
     },
     "execution_count": 7,
     "metadata": {},
     "output_type": "execute_result"
    }
   ],
   "source": [
    "data.describe()"
   ]
  },
  {
   "cell_type": "code",
   "execution_count": 8,
   "metadata": {},
   "outputs": [
    {
     "data": {
      "text/plain": [
       "caucasian    111\n",
       "black         10\n",
       "hispanic       2\n",
       "indian         1\n",
       "cacuasian      1\n",
       "asian          1\n",
       "Name: Ethnicity, dtype: int64"
      ]
     },
     "execution_count": 8,
     "metadata": {},
     "output_type": "execute_result"
    }
   ],
   "source": [
    "data['Ethnicity'].value_counts()"
   ]
  },
  {
   "cell_type": "code",
   "execution_count": 9,
   "metadata": {},
   "outputs": [],
   "source": [
    "# Replace the misspelled word with the correct word\n",
    "data[data['Ethnicity'] == 'cacuasian'] = 'caucasian'"
   ]
  },
  {
   "cell_type": "code",
   "execution_count": 10,
   "metadata": {},
   "outputs": [
    {
     "data": {
      "text/plain": [
       "caucasian    112\n",
       "black         10\n",
       "hispanic       2\n",
       "indian         1\n",
       "asian          1\n",
       "Name: Ethnicity, dtype: int64"
      ]
     },
     "execution_count": 10,
     "metadata": {},
     "output_type": "execute_result"
    }
   ],
   "source": [
    "data['Ethnicity'].value_counts()"
   ]
  },
  {
   "cell_type": "code",
   "execution_count": 11,
   "metadata": {},
   "outputs": [
    {
     "data": {
      "text/plain": [
       "female       73\n",
       "male         52\n",
       "caucasian     1\n",
       "Name: Sex, dtype: int64"
      ]
     },
     "execution_count": 11,
     "metadata": {},
     "output_type": "execute_result"
    }
   ],
   "source": [
    "data['Sex'].value_counts()"
   ]
  },
  {
   "cell_type": "code",
   "execution_count": 12,
   "metadata": {},
   "outputs": [],
   "source": [
    "data[data['Sex'] == 'caucasian'] = 'female'"
   ]
  },
  {
   "cell_type": "code",
   "execution_count": 13,
   "metadata": {},
   "outputs": [
    {
     "data": {
      "text/plain": [
       "female    74\n",
       "male      52\n",
       "Name: Sex, dtype: int64"
      ]
     },
     "execution_count": 13,
     "metadata": {},
     "output_type": "execute_result"
    }
   ],
   "source": [
    "data['Sex'].value_counts()"
   ]
  },
  {
   "cell_type": "code",
   "execution_count": 14,
   "metadata": {},
   "outputs": [
    {
     "data": {
      "text/plain": [
       "Crohn's Disease       58\n",
       "Normal                41\n",
       "Ulcerative Colitis    25\n",
       "Ulcerative             1\n",
       "female                 1\n",
       "Name: Group, dtype: int64"
      ]
     },
     "execution_count": 14,
     "metadata": {},
     "output_type": "execute_result"
    }
   ],
   "source": [
    "data['Group'].value_counts()"
   ]
  },
  {
   "cell_type": "markdown",
   "metadata": {},
   "source": [
    "### Remove the row where group = 'female'"
   ]
  },
  {
   "cell_type": "code",
   "execution_count": 15,
   "metadata": {},
   "outputs": [],
   "source": [
    "data = data[data.Group != 'female']"
   ]
  },
  {
   "cell_type": "code",
   "execution_count": 16,
   "metadata": {},
   "outputs": [],
   "source": [
    "data.loc[data['Group'] == 'Ulcerative', 'Group'] = 'Ulcerative Colitis'"
   ]
  },
  {
   "cell_type": "code",
   "execution_count": 17,
   "metadata": {},
   "outputs": [
    {
     "data": {
      "text/plain": [
       "Crohn's Disease       58\n",
       "Normal                41\n",
       "Ulcerative Colitis    26\n",
       "Name: Group, dtype: int64"
      ]
     },
     "execution_count": 17,
     "metadata": {},
     "output_type": "execute_result"
    }
   ],
   "source": [
    "data['Group'].value_counts()"
   ]
  },
  {
   "cell_type": "markdown",
   "metadata": {},
   "source": [
    "### Number of people in each disease group"
   ]
  },
  {
   "cell_type": "code",
   "execution_count": 18,
   "metadata": {},
   "outputs": [
    {
     "data": {
      "text/plain": [
       "<matplotlib.axes._subplots.AxesSubplot at 0x1db947b2288>"
      ]
     },
     "execution_count": 18,
     "metadata": {},
     "output_type": "execute_result"
    },
    {
     "data": {
      "image/png": "[encoded data removed]",
      "text/plain": [
       "<Figure size 432x288 with 1 Axes>"
      ]
     },
     "metadata": {
      "needs_background": "light"
     },
     "output_type": "display_data"
    }
   ],
   "source": [
    "%matplotlib inline\n",
    "sns.countplot(data['Group'], label = 'count')"
   ]
  },
  {
   "cell_type": "markdown",
   "metadata": {},
   "source": [
    "### Group by age"
   ]
  },
  {
   "cell_type": "code",
   "execution_count": 19,
   "metadata": {},
   "outputs": [
    {
     "data": {
      "text/plain": [
       "<matplotlib.legend.Legend at 0x1db933dfc08>"
      ]
     },
     "execution_count": 19,
     "metadata": {},
     "output_type": "execute_result"
    },
    {
     "data": {
      "image/png": "[encoded data removed]",
      "text/plain": [
       "<Figure size 1224x576 with 1 Axes>"
      ]
     },
     "metadata": {
      "needs_background": "light"
     },
     "output_type": "display_data"
    }
   ],
   "source": [
    "figure = plt.figure(figsize=(17,8))\n",
    "plt.hist([data[data['Group']=='Ulcerative Colitis']['Age'], data[data['Group']== 'Crohn\\'s Disease']['Age'], \n",
    "          data[data['Group']== 'Normal']['Age']],stacked=True, color = ['g','r','b'],bins = 50, alpha = 0.5,\n",
    "         label = ['Ulcerative Colitis','Crohn\\'s Disease', 'Normal'])\n",
    "plt.xlabel('Age')\n",
    "plt.ylabel('Number of patients')\n",
    "plt.legend()"
   ]
  },
  {
   "cell_type": "markdown",
   "metadata": {},
   "source": [
    "### Group by sex"
   ]
  },
  {
   "cell_type": "code",
   "execution_count": 20,
   "metadata": {},
   "outputs": [
    {
     "data": {
      "text/plain": [
       "<matplotlib.legend.Legend at 0x1db93467408>"
      ]
     },
     "execution_count": 20,
     "metadata": {},
     "output_type": "execute_result"
    },
    {
     "data": {
      "image/png": "[encoded data removed]",
      "text/plain": [
       "<Figure size 360x360 with 1 Axes>"
      ]
     },
     "metadata": {
      "needs_background": "light"
     },
     "output_type": "display_data"
    }
   ],
   "source": [
    "figure = plt.figure(figsize = (5,5))\n",
    "plt.hist([data[data['Sex']=='male']['Group'], data[data['Sex']=='female']['Group']], color=['g','b'],width=0.2,\n",
    "         alpha=0.5, label=['male','female'])\n",
    "plt.xlabel('Group')\n",
    "plt.ylabel('Number of patients')\n",
    "plt.legend()"
   ]
  },
  {
   "cell_type": "code",
   "execution_count": 21,
   "metadata": {},
   "outputs": [
    {
     "data": {
      "text/plain": [
       "Group          object\n",
       "Age            object\n",
       "Ethnicity      object\n",
       "Sex            object\n",
       "200006_at      object\n",
       "                ...  \n",
       "221371_at      object\n",
       "221690_s_at    object\n",
       "222292_at      object\n",
       "35150_at       object\n",
       "40273_at       object\n",
       "Length: 313, dtype: object"
      ]
     },
     "execution_count": 21,
     "metadata": {},
     "output_type": "execute_result"
    }
   ],
   "source": [
    "# data types\n",
    "data.dtypes"
   ]
  },
  {
   "cell_type": "code",
   "execution_count": 22,
   "metadata": {},
   "outputs": [],
   "source": [
    "\n",
    "all_columns = list(data.iloc[:,4:313]) # Creates list of all column headers\n",
    "data[all_columns] =data[all_columns].astype(float)\n"
   ]
  },
  {
   "cell_type": "code",
   "execution_count": 23,
   "metadata": {},
   "outputs": [],
   "source": [
    "\n",
    "data['Age'] =data['Age'].astype(int)\n",
    "\n"
   ]
  },
  {
   "cell_type": "code",
   "execution_count": 24,
   "metadata": {},
   "outputs": [
    {
     "data": {
      "text/plain": [
       "Group           object\n",
       "Age              int32\n",
       "Ethnicity       object\n",
       "Sex             object\n",
       "200006_at      float64\n",
       "                ...   \n",
       "221371_at      float64\n",
       "221690_s_at    float64\n",
       "222292_at      float64\n",
       "35150_at       float64\n",
       "40273_at       float64\n",
       "Length: 313, dtype: object"
      ]
     },
     "execution_count": 24,
     "metadata": {},
     "output_type": "execute_result"
    }
   ],
   "source": [
    "data.dtypes"
   ]
  },
  {
   "cell_type": "code",
   "execution_count": 25,
   "metadata": {},
   "outputs": [],
   "source": [
    "# Encoding the target variable\n",
    "from sklearn.preprocessing import LabelEncoder\n",
    "labelEncoder_y = LabelEncoder()\n",
    "data.iloc[:,0] = labelEncoder_y.fit_transform(data.iloc[:,0].values)"
   ]
  },
  {
   "cell_type": "code",
   "execution_count": 26,
   "metadata": {},
   "outputs": [
    {
     "data": {
      "text/html": [
       "<div>\n",
       "<style scoped>\n",
       "    .dataframe tbody tr th:only-of-type {\n",
       "        vertical-align: middle;\n",
       "    }\n",
       "\n",
       "    .dataframe tbody tr th {\n",
       "        vertical-align: top;\n",
       "    }\n",
       "\n",
       "    .dataframe thead th {\n",
       "        text-align: right;\n",
       "    }\n",
       "</style>\n",
       "<table border=\"1\" class=\"dataframe\">\n",
       "  <thead>\n",
       "    <tr style=\"text-align: right;\">\n",
       "      <th></th>\n",
       "      <th>Group</th>\n",
       "      <th>Age</th>\n",
       "      <th>Sex</th>\n",
       "      <th>200006_at</th>\n",
       "      <th>200091_s_at</th>\n",
       "      <th>200660_at</th>\n",
       "      <th>200704_at</th>\n",
       "      <th>200706_s_at</th>\n",
       "      <th>200779_at</th>\n",
       "      <th>200887_s_at</th>\n",
       "      <th>...</th>\n",
       "      <th>221085_at</th>\n",
       "      <th>221092_at</th>\n",
       "      <th>221111_at</th>\n",
       "      <th>221165_s_at</th>\n",
       "      <th>221331_x_at</th>\n",
       "      <th>221371_at</th>\n",
       "      <th>221690_s_at</th>\n",
       "      <th>222292_at</th>\n",
       "      <th>35150_at</th>\n",
       "      <th>40273_at</th>\n",
       "    </tr>\n",
       "  </thead>\n",
       "  <tbody>\n",
       "    <tr>\n",
       "      <td>0</td>\n",
       "      <td>2</td>\n",
       "      <td>25</td>\n",
       "      <td>female</td>\n",
       "      <td>1066.743652</td>\n",
       "      <td>3438.648926</td>\n",
       "      <td>197.507767</td>\n",
       "      <td>1836.721680</td>\n",
       "      <td>955.033936</td>\n",
       "      <td>2947.250244</td>\n",
       "      <td>134.746964</td>\n",
       "      <td>...</td>\n",
       "      <td>6.984630</td>\n",
       "      <td>2.943779</td>\n",
       "      <td>0.394986</td>\n",
       "      <td>49.597721</td>\n",
       "      <td>37.127441</td>\n",
       "      <td>25.306889</td>\n",
       "      <td>64.756462</td>\n",
       "      <td>19.020729</td>\n",
       "      <td>141.292740</td>\n",
       "      <td>6.059303</td>\n",
       "    </tr>\n",
       "    <tr>\n",
       "      <td>1</td>\n",
       "      <td>0</td>\n",
       "      <td>46</td>\n",
       "      <td>female</td>\n",
       "      <td>691.848511</td>\n",
       "      <td>1754.629028</td>\n",
       "      <td>511.375732</td>\n",
       "      <td>1921.327637</td>\n",
       "      <td>883.717041</td>\n",
       "      <td>2900.088379</td>\n",
       "      <td>394.818756</td>\n",
       "      <td>...</td>\n",
       "      <td>16.313744</td>\n",
       "      <td>27.600016</td>\n",
       "      <td>1.423127</td>\n",
       "      <td>83.653114</td>\n",
       "      <td>25.552881</td>\n",
       "      <td>55.010540</td>\n",
       "      <td>98.586563</td>\n",
       "      <td>31.993961</td>\n",
       "      <td>203.378326</td>\n",
       "      <td>30.333281</td>\n",
       "    </tr>\n",
       "    <tr>\n",
       "      <td>2</td>\n",
       "      <td>2</td>\n",
       "      <td>45</td>\n",
       "      <td>male</td>\n",
       "      <td>1013.811218</td>\n",
       "      <td>2837.300293</td>\n",
       "      <td>398.175842</td>\n",
       "      <td>1363.131348</td>\n",
       "      <td>715.677734</td>\n",
       "      <td>1841.662231</td>\n",
       "      <td>198.922958</td>\n",
       "      <td>...</td>\n",
       "      <td>21.288982</td>\n",
       "      <td>16.433182</td>\n",
       "      <td>1.492513</td>\n",
       "      <td>35.662075</td>\n",
       "      <td>51.398350</td>\n",
       "      <td>40.420418</td>\n",
       "      <td>33.374344</td>\n",
       "      <td>20.363697</td>\n",
       "      <td>297.299896</td>\n",
       "      <td>7.745946</td>\n",
       "    </tr>\n",
       "  </tbody>\n",
       "</table>\n",
       "<p>3 rows × 312 columns</p>\n",
       "</div>"
      ],
      "text/plain": [
       "   Group  Age     Sex    200006_at  200091_s_at   200660_at    200704_at  \\\n",
       "0      2   25  female  1066.743652  3438.648926  197.507767  1836.721680   \n",
       "1      0   46  female   691.848511  1754.629028  511.375732  1921.327637   \n",
       "2      2   45    male  1013.811218  2837.300293  398.175842  1363.131348   \n",
       "\n",
       "   200706_s_at    200779_at  200887_s_at  ...  221085_at  221092_at  \\\n",
       "0   955.033936  2947.250244   134.746964  ...   6.984630   2.943779   \n",
       "1   883.717041  2900.088379   394.818756  ...  16.313744  27.600016   \n",
       "2   715.677734  1841.662231   198.922958  ...  21.288982  16.433182   \n",
       "\n",
       "   221111_at  221165_s_at  221331_x_at  221371_at  221690_s_at  222292_at  \\\n",
       "0   0.394986    49.597721    37.127441  25.306889    64.756462  19.020729   \n",
       "1   1.423127    83.653114    25.552881  55.010540    98.586563  31.993961   \n",
       "2   1.492513    35.662075    51.398350  40.420418    33.374344  20.363697   \n",
       "\n",
       "     35150_at   40273_at  \n",
       "0  141.292740   6.059303  \n",
       "1  203.378326  30.333281  \n",
       "2  297.299896   7.745946  \n",
       "\n",
       "[3 rows x 312 columns]"
      ]
     },
     "execution_count": 26,
     "metadata": {},
     "output_type": "execute_result"
    }
   ],
   "source": [
    "# Remove the Ethnicity column because there is no enough data to represent all the categories of the ethnicity group\n",
    "data = data.drop(columns=['Ethnicity'])\n",
    "data.head(3)"
   ]
  },
  {
   "cell_type": "code",
   "execution_count": 27,
   "metadata": {},
   "outputs": [],
   "source": [
    "# Encoding the 'Sex' variable\n",
    "data.iloc[:,2] = labelEncoder_y.fit_transform(data.iloc[:,2].values)"
   ]
  },
  {
   "cell_type": "code",
   "execution_count": 28,
   "metadata": {},
   "outputs": [
    {
     "data": {
      "text/html": [
       "<div>\n",
       "<style scoped>\n",
       "    .dataframe tbody tr th:only-of-type {\n",
       "        vertical-align: middle;\n",
       "    }\n",
       "\n",
       "    .dataframe tbody tr th {\n",
       "        vertical-align: top;\n",
       "    }\n",
       "\n",
       "    .dataframe thead th {\n",
       "        text-align: right;\n",
       "    }\n",
       "</style>\n",
       "<table border=\"1\" class=\"dataframe\">\n",
       "  <thead>\n",
       "    <tr style=\"text-align: right;\">\n",
       "      <th></th>\n",
       "      <th>Group</th>\n",
       "      <th>Age</th>\n",
       "      <th>Sex</th>\n",
       "      <th>200006_at</th>\n",
       "      <th>200091_s_at</th>\n",
       "      <th>200660_at</th>\n",
       "      <th>200704_at</th>\n",
       "      <th>200706_s_at</th>\n",
       "      <th>200779_at</th>\n",
       "      <th>200887_s_at</th>\n",
       "      <th>...</th>\n",
       "      <th>221085_at</th>\n",
       "      <th>221092_at</th>\n",
       "      <th>221111_at</th>\n",
       "      <th>221165_s_at</th>\n",
       "      <th>221331_x_at</th>\n",
       "      <th>221371_at</th>\n",
       "      <th>221690_s_at</th>\n",
       "      <th>222292_at</th>\n",
       "      <th>35150_at</th>\n",
       "      <th>40273_at</th>\n",
       "    </tr>\n",
       "  </thead>\n",
       "  <tbody>\n",
       "    <tr>\n",
       "      <td>0</td>\n",
       "      <td>2</td>\n",
       "      <td>25</td>\n",
       "      <td>0</td>\n",
       "      <td>1066.743652</td>\n",
       "      <td>3438.648926</td>\n",
       "      <td>197.507767</td>\n",
       "      <td>1836.721680</td>\n",
       "      <td>955.033936</td>\n",
       "      <td>2947.250244</td>\n",
       "      <td>134.746964</td>\n",
       "      <td>...</td>\n",
       "      <td>6.984630</td>\n",
       "      <td>2.943779</td>\n",
       "      <td>0.394986</td>\n",
       "      <td>49.597721</td>\n",
       "      <td>37.127441</td>\n",
       "      <td>25.306889</td>\n",
       "      <td>64.756462</td>\n",
       "      <td>19.020729</td>\n",
       "      <td>141.292740</td>\n",
       "      <td>6.059303</td>\n",
       "    </tr>\n",
       "    <tr>\n",
       "      <td>1</td>\n",
       "      <td>0</td>\n",
       "      <td>46</td>\n",
       "      <td>0</td>\n",
       "      <td>691.848511</td>\n",
       "      <td>1754.629028</td>\n",
       "      <td>511.375732</td>\n",
       "      <td>1921.327637</td>\n",
       "      <td>883.717041</td>\n",
       "      <td>2900.088379</td>\n",
       "      <td>394.818756</td>\n",
       "      <td>...</td>\n",
       "      <td>16.313744</td>\n",
       "      <td>27.600016</td>\n",
       "      <td>1.423127</td>\n",
       "      <td>83.653114</td>\n",
       "      <td>25.552881</td>\n",
       "      <td>55.010540</td>\n",
       "      <td>98.586563</td>\n",
       "      <td>31.993961</td>\n",
       "      <td>203.378326</td>\n",
       "      <td>30.333281</td>\n",
       "    </tr>\n",
       "    <tr>\n",
       "      <td>2</td>\n",
       "      <td>2</td>\n",
       "      <td>45</td>\n",
       "      <td>1</td>\n",
       "      <td>1013.811218</td>\n",
       "      <td>2837.300293</td>\n",
       "      <td>398.175842</td>\n",
       "      <td>1363.131348</td>\n",
       "      <td>715.677734</td>\n",
       "      <td>1841.662231</td>\n",
       "      <td>198.922958</td>\n",
       "      <td>...</td>\n",
       "      <td>21.288982</td>\n",
       "      <td>16.433182</td>\n",
       "      <td>1.492513</td>\n",
       "      <td>35.662075</td>\n",
       "      <td>51.398350</td>\n",
       "      <td>40.420418</td>\n",
       "      <td>33.374344</td>\n",
       "      <td>20.363697</td>\n",
       "      <td>297.299896</td>\n",
       "      <td>7.745946</td>\n",
       "    </tr>\n",
       "  </tbody>\n",
       "</table>\n",
       "<p>3 rows × 312 columns</p>\n",
       "</div>"
      ],
      "text/plain": [
       "   Group  Age  Sex    200006_at  200091_s_at   200660_at    200704_at  \\\n",
       "0      2   25    0  1066.743652  3438.648926  197.507767  1836.721680   \n",
       "1      0   46    0   691.848511  1754.629028  511.375732  1921.327637   \n",
       "2      2   45    1  1013.811218  2837.300293  398.175842  1363.131348   \n",
       "\n",
       "   200706_s_at    200779_at  200887_s_at  ...  221085_at  221092_at  \\\n",
       "0   955.033936  2947.250244   134.746964  ...   6.984630   2.943779   \n",
       "1   883.717041  2900.088379   394.818756  ...  16.313744  27.600016   \n",
       "2   715.677734  1841.662231   198.922958  ...  21.288982  16.433182   \n",
       "\n",
       "   221111_at  221165_s_at  221331_x_at  221371_at  221690_s_at  222292_at  \\\n",
       "0   0.394986    49.597721    37.127441  25.306889    64.756462  19.020729   \n",
       "1   1.423127    83.653114    25.552881  55.010540    98.586563  31.993961   \n",
       "2   1.492513    35.662075    51.398350  40.420418    33.374344  20.363697   \n",
       "\n",
       "     35150_at   40273_at  \n",
       "0  141.292740   6.059303  \n",
       "1  203.378326  30.333281  \n",
       "2  297.299896   7.745946  \n",
       "\n",
       "[3 rows x 312 columns]"
      ]
     },
     "execution_count": 28,
     "metadata": {},
     "output_type": "execute_result"
    }
   ],
   "source": [
    "data.head(3)"
   ]
  },
  {
   "cell_type": "code",
   "execution_count": 29,
   "metadata": {},
   "outputs": [],
   "source": [
    "# Encode Sex column using one-hot encoder\n",
    "from sklearn.preprocessing import OneHotEncoder\n",
    "sex_enc = OneHotEncoder(categories='auto')\n",
    "\n",
    "X = sex_enc.fit_transform(data.Sex.values.reshape(-1,1)).toarray()"
   ]
  },
  {
   "cell_type": "code",
   "execution_count": 30,
   "metadata": {},
   "outputs": [],
   "source": [
    "sex_onehot = pd.DataFrame(X, columns = ['male', 'female'])\n",
    "# data = pd.concat([data, sex_onehot], axis=1)\n",
    "data.insert(2,\"Male\", sex_onehot['male'].values)\n",
    "data.insert(3,\"Female\", sex_onehot['female'].values)"
   ]
  },
  {
   "cell_type": "code",
   "execution_count": 31,
   "metadata": {},
   "outputs": [
    {
     "data": {
      "text/html": [
       "<div>\n",
       "<style scoped>\n",
       "    .dataframe tbody tr th:only-of-type {\n",
       "        vertical-align: middle;\n",
       "    }\n",
       "\n",
       "    .dataframe tbody tr th {\n",
       "        vertical-align: top;\n",
       "    }\n",
       "\n",
       "    .dataframe thead th {\n",
       "        text-align: right;\n",
       "    }\n",
       "</style>\n",
       "<table border=\"1\" class=\"dataframe\">\n",
       "  <thead>\n",
       "    <tr style=\"text-align: right;\">\n",
       "      <th></th>\n",
       "      <th>Group</th>\n",
       "      <th>Age</th>\n",
       "      <th>Male</th>\n",
       "      <th>Female</th>\n",
       "      <th>200006_at</th>\n",
       "      <th>200091_s_at</th>\n",
       "      <th>200660_at</th>\n",
       "      <th>200704_at</th>\n",
       "      <th>200706_s_at</th>\n",
       "      <th>200779_at</th>\n",
       "      <th>...</th>\n",
       "      <th>221085_at</th>\n",
       "      <th>221092_at</th>\n",
       "      <th>221111_at</th>\n",
       "      <th>221165_s_at</th>\n",
       "      <th>221331_x_at</th>\n",
       "      <th>221371_at</th>\n",
       "      <th>221690_s_at</th>\n",
       "      <th>222292_at</th>\n",
       "      <th>35150_at</th>\n",
       "      <th>40273_at</th>\n",
       "    </tr>\n",
       "  </thead>\n",
       "  <tbody>\n",
       "    <tr>\n",
       "      <td>0</td>\n",
       "      <td>2</td>\n",
       "      <td>25</td>\n",
       "      <td>1.0</td>\n",
       "      <td>0.0</td>\n",
       "      <td>1066.743652</td>\n",
       "      <td>3438.648926</td>\n",
       "      <td>197.507767</td>\n",
       "      <td>1836.721680</td>\n",
       "      <td>955.033936</td>\n",
       "      <td>2947.250244</td>\n",
       "      <td>...</td>\n",
       "      <td>6.984630</td>\n",
       "      <td>2.943779</td>\n",
       "      <td>0.394986</td>\n",
       "      <td>49.597721</td>\n",
       "      <td>37.127441</td>\n",
       "      <td>25.306889</td>\n",
       "      <td>64.756462</td>\n",
       "      <td>19.020729</td>\n",
       "      <td>141.292740</td>\n",
       "      <td>6.059303</td>\n",
       "    </tr>\n",
       "    <tr>\n",
       "      <td>1</td>\n",
       "      <td>0</td>\n",
       "      <td>46</td>\n",
       "      <td>1.0</td>\n",
       "      <td>0.0</td>\n",
       "      <td>691.848511</td>\n",
       "      <td>1754.629028</td>\n",
       "      <td>511.375732</td>\n",
       "      <td>1921.327637</td>\n",
       "      <td>883.717041</td>\n",
       "      <td>2900.088379</td>\n",
       "      <td>...</td>\n",
       "      <td>16.313744</td>\n",
       "      <td>27.600016</td>\n",
       "      <td>1.423127</td>\n",
       "      <td>83.653114</td>\n",
       "      <td>25.552881</td>\n",
       "      <td>55.010540</td>\n",
       "      <td>98.586563</td>\n",
       "      <td>31.993961</td>\n",
       "      <td>203.378326</td>\n",
       "      <td>30.333281</td>\n",
       "    </tr>\n",
       "    <tr>\n",
       "      <td>2</td>\n",
       "      <td>2</td>\n",
       "      <td>45</td>\n",
       "      <td>0.0</td>\n",
       "      <td>1.0</td>\n",
       "      <td>1013.811218</td>\n",
       "      <td>2837.300293</td>\n",
       "      <td>398.175842</td>\n",
       "      <td>1363.131348</td>\n",
       "      <td>715.677734</td>\n",
       "      <td>1841.662231</td>\n",
       "      <td>...</td>\n",
       "      <td>21.288982</td>\n",
       "      <td>16.433182</td>\n",
       "      <td>1.492513</td>\n",
       "      <td>35.662075</td>\n",
       "      <td>51.398350</td>\n",
       "      <td>40.420418</td>\n",
       "      <td>33.374344</td>\n",
       "      <td>20.363697</td>\n",
       "      <td>297.299896</td>\n",
       "      <td>7.745946</td>\n",
       "    </tr>\n",
       "    <tr>\n",
       "      <td>3</td>\n",
       "      <td>0</td>\n",
       "      <td>46</td>\n",
       "      <td>1.0</td>\n",
       "      <td>0.0</td>\n",
       "      <td>1134.788818</td>\n",
       "      <td>2805.885254</td>\n",
       "      <td>321.680237</td>\n",
       "      <td>1202.753052</td>\n",
       "      <td>519.658508</td>\n",
       "      <td>2389.312988</td>\n",
       "      <td>...</td>\n",
       "      <td>7.967771</td>\n",
       "      <td>16.167805</td>\n",
       "      <td>1.271991</td>\n",
       "      <td>29.136316</td>\n",
       "      <td>56.511452</td>\n",
       "      <td>12.512635</td>\n",
       "      <td>42.196774</td>\n",
       "      <td>27.121355</td>\n",
       "      <td>173.880432</td>\n",
       "      <td>10.553603</td>\n",
       "    </tr>\n",
       "    <tr>\n",
       "      <td>4</td>\n",
       "      <td>0</td>\n",
       "      <td>38</td>\n",
       "      <td>0.0</td>\n",
       "      <td>1.0</td>\n",
       "      <td>1354.319214</td>\n",
       "      <td>1956.348877</td>\n",
       "      <td>981.175354</td>\n",
       "      <td>2276.090332</td>\n",
       "      <td>864.241882</td>\n",
       "      <td>1709.656616</td>\n",
       "      <td>...</td>\n",
       "      <td>11.763982</td>\n",
       "      <td>9.427041</td>\n",
       "      <td>1.018824</td>\n",
       "      <td>36.908871</td>\n",
       "      <td>18.627043</td>\n",
       "      <td>24.981642</td>\n",
       "      <td>4.816647</td>\n",
       "      <td>17.824654</td>\n",
       "      <td>160.783493</td>\n",
       "      <td>10.236055</td>\n",
       "    </tr>\n",
       "    <tr>\n",
       "      <td>5</td>\n",
       "      <td>0</td>\n",
       "      <td>34</td>\n",
       "      <td>1.0</td>\n",
       "      <td>0.0</td>\n",
       "      <td>946.365662</td>\n",
       "      <td>2464.079102</td>\n",
       "      <td>168.552780</td>\n",
       "      <td>1633.989990</td>\n",
       "      <td>496.589935</td>\n",
       "      <td>2787.682373</td>\n",
       "      <td>...</td>\n",
       "      <td>12.619734</td>\n",
       "      <td>12.429363</td>\n",
       "      <td>1.367956</td>\n",
       "      <td>44.958858</td>\n",
       "      <td>24.542097</td>\n",
       "      <td>28.526945</td>\n",
       "      <td>5.690206</td>\n",
       "      <td>39.164494</td>\n",
       "      <td>227.560944</td>\n",
       "      <td>6.777221</td>\n",
       "    </tr>\n",
       "    <tr>\n",
       "      <td>6</td>\n",
       "      <td>0</td>\n",
       "      <td>54</td>\n",
       "      <td>0.0</td>\n",
       "      <td>1.0</td>\n",
       "      <td>1879.218506</td>\n",
       "      <td>2206.677246</td>\n",
       "      <td>2138.484131</td>\n",
       "      <td>2761.670654</td>\n",
       "      <td>945.884094</td>\n",
       "      <td>2083.564453</td>\n",
       "      <td>...</td>\n",
       "      <td>3.193714</td>\n",
       "      <td>12.812471</td>\n",
       "      <td>7.075439</td>\n",
       "      <td>42.583820</td>\n",
       "      <td>20.788658</td>\n",
       "      <td>22.913269</td>\n",
       "      <td>16.484034</td>\n",
       "      <td>31.764591</td>\n",
       "      <td>199.174805</td>\n",
       "      <td>9.823449</td>\n",
       "    </tr>\n",
       "    <tr>\n",
       "      <td>7</td>\n",
       "      <td>0</td>\n",
       "      <td>47</td>\n",
       "      <td>1.0</td>\n",
       "      <td>0.0</td>\n",
       "      <td>1486.181885</td>\n",
       "      <td>1457.362671</td>\n",
       "      <td>1454.456177</td>\n",
       "      <td>1606.972656</td>\n",
       "      <td>892.147949</td>\n",
       "      <td>1938.003174</td>\n",
       "      <td>...</td>\n",
       "      <td>16.861446</td>\n",
       "      <td>2.901434</td>\n",
       "      <td>0.416798</td>\n",
       "      <td>29.472208</td>\n",
       "      <td>2.612904</td>\n",
       "      <td>9.942989</td>\n",
       "      <td>10.985009</td>\n",
       "      <td>21.765324</td>\n",
       "      <td>186.594742</td>\n",
       "      <td>33.370800</td>\n",
       "    </tr>\n",
       "    <tr>\n",
       "      <td>8</td>\n",
       "      <td>2</td>\n",
       "      <td>49</td>\n",
       "      <td>1.0</td>\n",
       "      <td>0.0</td>\n",
       "      <td>1335.065918</td>\n",
       "      <td>2544.056152</td>\n",
       "      <td>392.005432</td>\n",
       "      <td>1820.360596</td>\n",
       "      <td>938.168335</td>\n",
       "      <td>2359.022949</td>\n",
       "      <td>...</td>\n",
       "      <td>8.781388</td>\n",
       "      <td>11.381090</td>\n",
       "      <td>0.671571</td>\n",
       "      <td>22.110672</td>\n",
       "      <td>23.173855</td>\n",
       "      <td>28.049915</td>\n",
       "      <td>5.754722</td>\n",
       "      <td>18.082279</td>\n",
       "      <td>120.799202</td>\n",
       "      <td>6.688927</td>\n",
       "    </tr>\n",
       "    <tr>\n",
       "      <td>9</td>\n",
       "      <td>0</td>\n",
       "      <td>31</td>\n",
       "      <td>0.0</td>\n",
       "      <td>1.0</td>\n",
       "      <td>982.596313</td>\n",
       "      <td>2614.527588</td>\n",
       "      <td>260.511322</td>\n",
       "      <td>2358.931885</td>\n",
       "      <td>896.369446</td>\n",
       "      <td>2353.855469</td>\n",
       "      <td>...</td>\n",
       "      <td>12.960254</td>\n",
       "      <td>3.468214</td>\n",
       "      <td>0.894941</td>\n",
       "      <td>49.155254</td>\n",
       "      <td>56.424107</td>\n",
       "      <td>48.104645</td>\n",
       "      <td>8.303145</td>\n",
       "      <td>24.751717</td>\n",
       "      <td>203.478043</td>\n",
       "      <td>8.394868</td>\n",
       "    </tr>\n",
       "  </tbody>\n",
       "</table>\n",
       "<p>10 rows × 313 columns</p>\n",
       "</div>"
      ],
      "text/plain": [
       "   Group  Age  Male  Female    200006_at  200091_s_at    200660_at  \\\n",
       "0      2   25   1.0     0.0  1066.743652  3438.648926   197.507767   \n",
       "1      0   46   1.0     0.0   691.848511  1754.629028   511.375732   \n",
       "2      2   45   0.0     1.0  1013.811218  2837.300293   398.175842   \n",
       "3      0   46   1.0     0.0  1134.788818  2805.885254   321.680237   \n",
       "4      0   38   0.0     1.0  1354.319214  1956.348877   981.175354   \n",
       "5      0   34   1.0     0.0   946.365662  2464.079102   168.552780   \n",
       "6      0   54   0.0     1.0  1879.218506  2206.677246  2138.484131   \n",
       "7      0   47   1.0     0.0  1486.181885  1457.362671  1454.456177   \n",
       "8      2   49   1.0     0.0  1335.065918  2544.056152   392.005432   \n",
       "9      0   31   0.0     1.0   982.596313  2614.527588   260.511322   \n",
       "\n",
       "     200704_at  200706_s_at    200779_at  ...  221085_at  221092_at  \\\n",
       "0  1836.721680   955.033936  2947.250244  ...   6.984630   2.943779   \n",
       "1  1921.327637   883.717041  2900.088379  ...  16.313744  27.600016   \n",
       "2  1363.131348   715.677734  1841.662231  ...  21.288982  16.433182   \n",
       "3  1202.753052   519.658508  2389.312988  ...   7.967771  16.167805   \n",
       "4  2276.090332   864.241882  1709.656616  ...  11.763982   9.427041   \n",
       "5  1633.989990   496.589935  2787.682373  ...  12.619734  12.429363   \n",
       "6  2761.670654   945.884094  2083.564453  ...   3.193714  12.812471   \n",
       "7  1606.972656   892.147949  1938.003174  ...  16.861446   2.901434   \n",
       "8  1820.360596   938.168335  2359.022949  ...   8.781388  11.381090   \n",
       "9  2358.931885   896.369446  2353.855469  ...  12.960254   3.468214   \n",
       "\n",
       "   221111_at  221165_s_at  221331_x_at  221371_at  221690_s_at  222292_at  \\\n",
       "0   0.394986    49.597721    37.127441  25.306889    64.756462  19.020729   \n",
       "1   1.423127    83.653114    25.552881  55.010540    98.586563  31.993961   \n",
       "2   1.492513    35.662075    51.398350  40.420418    33.374344  20.363697   \n",
       "3   1.271991    29.136316    56.511452  12.512635    42.196774  27.121355   \n",
       "4   1.018824    36.908871    18.627043  24.981642     4.816647  17.824654   \n",
       "5   1.367956    44.958858    24.542097  28.526945     5.690206  39.164494   \n",
       "6   7.075439    42.583820    20.788658  22.913269    16.484034  31.764591   \n",
       "7   0.416798    29.472208     2.612904   9.942989    10.985009  21.765324   \n",
       "8   0.671571    22.110672    23.173855  28.049915     5.754722  18.082279   \n",
       "9   0.894941    49.155254    56.424107  48.104645     8.303145  24.751717   \n",
       "\n",
       "     35150_at   40273_at  \n",
       "0  141.292740   6.059303  \n",
       "1  203.378326  30.333281  \n",
       "2  297.299896   7.745946  \n",
       "3  173.880432  10.553603  \n",
       "4  160.783493  10.236055  \n",
       "5  227.560944   6.777221  \n",
       "6  199.174805   9.823449  \n",
       "7  186.594742  33.370800  \n",
       "8  120.799202   6.688927  \n",
       "9  203.478043   8.394868  \n",
       "\n",
       "[10 rows x 313 columns]"
      ]
     },
     "execution_count": 31,
     "metadata": {},
     "output_type": "execute_result"
    }
   ],
   "source": [
    "data = data.drop(columns=['Sex'])\n",
    "data.head(10)"
   ]
  },
  {
   "cell_type": "code",
   "execution_count": 32,
   "metadata": {},
   "outputs": [
    {
     "data": {
      "text/html": [
       "<div>\n",
       "<style scoped>\n",
       "    .dataframe tbody tr th:only-of-type {\n",
       "        vertical-align: middle;\n",
       "    }\n",
       "\n",
       "    .dataframe tbody tr th {\n",
       "        vertical-align: top;\n",
       "    }\n",
       "\n",
       "    .dataframe thead th {\n",
       "        text-align: right;\n",
       "    }\n",
       "</style>\n",
       "<table border=\"1\" class=\"dataframe\">\n",
       "  <thead>\n",
       "    <tr style=\"text-align: right;\">\n",
       "      <th></th>\n",
       "      <th>Group</th>\n",
       "      <th>Age</th>\n",
       "      <th>Male</th>\n",
       "      <th>Female</th>\n",
       "    </tr>\n",
       "  </thead>\n",
       "  <tbody>\n",
       "    <tr>\n",
       "      <td>Group</td>\n",
       "      <td>1.000000</td>\n",
       "      <td>0.167219</td>\n",
       "      <td>-0.006503</td>\n",
       "      <td>0.006503</td>\n",
       "    </tr>\n",
       "    <tr>\n",
       "      <td>Age</td>\n",
       "      <td>0.167219</td>\n",
       "      <td>1.000000</td>\n",
       "      <td>-0.024890</td>\n",
       "      <td>0.024890</td>\n",
       "    </tr>\n",
       "    <tr>\n",
       "      <td>Male</td>\n",
       "      <td>-0.006503</td>\n",
       "      <td>-0.024890</td>\n",
       "      <td>1.000000</td>\n",
       "      <td>-1.000000</td>\n",
       "    </tr>\n",
       "    <tr>\n",
       "      <td>Female</td>\n",
       "      <td>0.006503</td>\n",
       "      <td>0.024890</td>\n",
       "      <td>-1.000000</td>\n",
       "      <td>1.000000</td>\n",
       "    </tr>\n",
       "  </tbody>\n",
       "</table>\n",
       "</div>"
      ],
      "text/plain": [
       "           Group       Age      Male    Female\n",
       "Group   1.000000  0.167219 -0.006503  0.006503\n",
       "Age     0.167219  1.000000 -0.024890  0.024890\n",
       "Male   -0.006503 -0.024890  1.000000 -1.000000\n",
       "Female  0.006503  0.024890 -1.000000  1.000000"
      ]
     },
     "execution_count": 32,
     "metadata": {},
     "output_type": "execute_result"
    }
   ],
   "source": [
    "data.iloc[:,0:4].corr()"
   ]
  },
  {
   "cell_type": "code",
   "execution_count": 33,
   "metadata": {},
   "outputs": [
    {
     "name": "stdout",
     "output_type": "stream",
     "text": [
      "690.489563\n",
      "2042.485352\n"
     ]
    }
   ],
   "source": [
    "print(data['200006_at'].min())\n",
    "print(data['200006_at'].max())"
   ]
  },
  {
   "cell_type": "markdown",
   "metadata": {},
   "source": [
    "### Check skewness of gene array data"
   ]
  },
  {
   "cell_type": "code",
   "execution_count": 34,
   "metadata": {},
   "outputs": [
    {
     "data": {
      "text/plain": [
       "200887_s_at    2.020309\n",
       "200930_s_at    0.938797\n",
       "200931_s_at    1.054458\n",
       "200982_s_at    1.594076\n",
       "201041_s_at    0.096225\n",
       "201044_x_at    3.277943\n",
       "201095_at      1.066967\n",
       "201459_at      1.033663\n",
       "201460_at      0.644160\n",
       "201461_s_at    0.510759\n",
       "201642_at      2.956288\n",
       "201783_s_at    0.514281\n",
       "202018_s_at    3.308993\n",
       "dtype: float64"
      ]
     },
     "execution_count": 34,
     "metadata": {},
     "output_type": "execute_result"
    }
   ],
   "source": [
    "data.iloc[:,10:23].skew(axis = 0) "
   ]
  },
  {
   "cell_type": "code",
   "execution_count": 35,
   "metadata": {},
   "outputs": [
    {
     "data": {
      "text/plain": [
       "<matplotlib.axes._subplots.AxesSubplot at 0x1db970aed48>"
      ]
     },
     "execution_count": 35,
     "metadata": {},
     "output_type": "execute_result"
    },
    {
     "data": {
      "image/png": "[encoded data removed]",
      "text/plain": [
       "<Figure size 1080x504 with 6 Axes>"
      ]
     },
     "metadata": {
      "needs_background": "light"
     },
     "output_type": "display_data"
    }
   ],
   "source": [
    "# data.iloc[:,10:23].hist(bins=50)\n",
    "f, axes = plt.subplots(2, 3, figsize=(15, 7))\n",
    "sns.distplot( data[\"200006_at\"] , color=\"skyblue\", ax=axes[0, 0])\n",
    "sns.distplot( data[\"221085_at\"] , color=\"olive\", ax=axes[0, 1])\n",
    "sns.distplot( data[\"200660_at\"] , color=\"gold\", ax=axes[0, 2])\n",
    "sns.distplot( data[\"221111_at\"] , color=\"teal\", ax=axes[1, 0])\n",
    "sns.distplot( data[\"221165_s_at\"] , color=\"red\", ax=axes[1, 1])\n",
    "sns.distplot( data[\"221371_at\"] , color=\"green\", ax=axes[1, 2])"
   ]
  },
  {
   "cell_type": "markdown",
   "metadata": {},
   "source": [
    "### Log transform data to get normal distributions"
   ]
  },
  {
   "cell_type": "code",
   "execution_count": 36,
   "metadata": {},
   "outputs": [],
   "source": [
    "# Gene array data are skewed. Need to log transformation\n",
    "data.iloc[:,4:313] = data.iloc[:,4:313].apply(np.log)"
   ]
  },
  {
   "cell_type": "code",
   "execution_count": 37,
   "metadata": {},
   "outputs": [
    {
     "data": {
      "text/html": [
       "<div>\n",
       "<style scoped>\n",
       "    .dataframe tbody tr th:only-of-type {\n",
       "        vertical-align: middle;\n",
       "    }\n",
       "\n",
       "    .dataframe tbody tr th {\n",
       "        vertical-align: top;\n",
       "    }\n",
       "\n",
       "    .dataframe thead th {\n",
       "        text-align: right;\n",
       "    }\n",
       "</style>\n",
       "<table border=\"1\" class=\"dataframe\">\n",
       "  <thead>\n",
       "    <tr style=\"text-align: right;\">\n",
       "      <th></th>\n",
       "      <th>Group</th>\n",
       "      <th>Age</th>\n",
       "      <th>Male</th>\n",
       "      <th>Female</th>\n",
       "      <th>200006_at</th>\n",
       "      <th>200091_s_at</th>\n",
       "      <th>200660_at</th>\n",
       "      <th>200704_at</th>\n",
       "      <th>200706_s_at</th>\n",
       "      <th>200779_at</th>\n",
       "      <th>...</th>\n",
       "      <th>221085_at</th>\n",
       "      <th>221092_at</th>\n",
       "      <th>221111_at</th>\n",
       "      <th>221165_s_at</th>\n",
       "      <th>221331_x_at</th>\n",
       "      <th>221371_at</th>\n",
       "      <th>221690_s_at</th>\n",
       "      <th>222292_at</th>\n",
       "      <th>35150_at</th>\n",
       "      <th>40273_at</th>\n",
       "    </tr>\n",
       "  </thead>\n",
       "  <tbody>\n",
       "    <tr>\n",
       "      <td>0</td>\n",
       "      <td>2</td>\n",
       "      <td>25</td>\n",
       "      <td>1.0</td>\n",
       "      <td>0.0</td>\n",
       "      <td>6.972366</td>\n",
       "      <td>8.142834</td>\n",
       "      <td>5.285778</td>\n",
       "      <td>7.515738</td>\n",
       "      <td>6.861747</td>\n",
       "      <td>7.988628</td>\n",
       "      <td>...</td>\n",
       "      <td>1.943712</td>\n",
       "      <td>1.079694</td>\n",
       "      <td>-0.928905</td>\n",
       "      <td>3.903945</td>\n",
       "      <td>3.614356</td>\n",
       "      <td>3.231077</td>\n",
       "      <td>4.170633</td>\n",
       "      <td>2.945529</td>\n",
       "      <td>4.950834</td>\n",
       "      <td>1.801595</td>\n",
       "    </tr>\n",
       "    <tr>\n",
       "      <td>1</td>\n",
       "      <td>0</td>\n",
       "      <td>46</td>\n",
       "      <td>1.0</td>\n",
       "      <td>0.0</td>\n",
       "      <td>6.539367</td>\n",
       "      <td>7.470013</td>\n",
       "      <td>6.237105</td>\n",
       "      <td>7.560772</td>\n",
       "      <td>6.784137</td>\n",
       "      <td>7.972496</td>\n",
       "      <td>...</td>\n",
       "      <td>2.792008</td>\n",
       "      <td>3.317816</td>\n",
       "      <td>0.352857</td>\n",
       "      <td>4.426679</td>\n",
       "      <td>3.240750</td>\n",
       "      <td>4.007525</td>\n",
       "      <td>4.590935</td>\n",
       "      <td>3.465547</td>\n",
       "      <td>5.315068</td>\n",
       "      <td>3.412245</td>\n",
       "    </tr>\n",
       "    <tr>\n",
       "      <td>2</td>\n",
       "      <td>2</td>\n",
       "      <td>45</td>\n",
       "      <td>0.0</td>\n",
       "      <td>1.0</td>\n",
       "      <td>6.921472</td>\n",
       "      <td>7.950608</td>\n",
       "      <td>5.986894</td>\n",
       "      <td>7.217540</td>\n",
       "      <td>6.573230</td>\n",
       "      <td>7.518424</td>\n",
       "      <td>...</td>\n",
       "      <td>3.058190</td>\n",
       "      <td>2.799303</td>\n",
       "      <td>0.400461</td>\n",
       "      <td>3.574088</td>\n",
       "      <td>3.939606</td>\n",
       "      <td>3.699335</td>\n",
       "      <td>3.507787</td>\n",
       "      <td>3.013754</td>\n",
       "      <td>5.694741</td>\n",
       "      <td>2.047170</td>\n",
       "    </tr>\n",
       "  </tbody>\n",
       "</table>\n",
       "<p>3 rows × 313 columns</p>\n",
       "</div>"
      ],
      "text/plain": [
       "   Group  Age  Male  Female  200006_at  200091_s_at  200660_at  200704_at  \\\n",
       "0      2   25   1.0     0.0   6.972366     8.142834   5.285778   7.515738   \n",
       "1      0   46   1.0     0.0   6.539367     7.470013   6.237105   7.560772   \n",
       "2      2   45   0.0     1.0   6.921472     7.950608   5.986894   7.217540   \n",
       "\n",
       "   200706_s_at  200779_at  ...  221085_at  221092_at  221111_at  221165_s_at  \\\n",
       "0     6.861747   7.988628  ...   1.943712   1.079694  -0.928905     3.903945   \n",
       "1     6.784137   7.972496  ...   2.792008   3.317816   0.352857     4.426679   \n",
       "2     6.573230   7.518424  ...   3.058190   2.799303   0.400461     3.574088   \n",
       "\n",
       "   221331_x_at  221371_at  221690_s_at  222292_at  35150_at  40273_at  \n",
       "0     3.614356   3.231077     4.170633   2.945529  4.950834  1.801595  \n",
       "1     3.240750   4.007525     4.590935   3.465547  5.315068  3.412245  \n",
       "2     3.939606   3.699335     3.507787   3.013754  5.694741  2.047170  \n",
       "\n",
       "[3 rows x 313 columns]"
      ]
     },
     "execution_count": 37,
     "metadata": {},
     "output_type": "execute_result"
    }
   ],
   "source": [
    "data.head(3)"
   ]
  },
  {
   "cell_type": "code",
   "execution_count": 38,
   "metadata": {},
   "outputs": [
    {
     "data": {
      "text/plain": [
       "<matplotlib.axes._subplots.AxesSubplot at 0x1db97266d48>"
      ]
     },
     "execution_count": 38,
     "metadata": {},
     "output_type": "execute_result"
    },
    {
     "data": {
      "image/png": "[encoded data removed]",
      "text/plain": [
       "<Figure size 1080x504 with 6 Axes>"
      ]
     },
     "metadata": {
      "needs_background": "light"
     },
     "output_type": "display_data"
    }
   ],
   "source": [
    "f, axes = plt.subplots(2, 3, figsize=(15, 7))\n",
    "sns.distplot( data[\"200006_at\"] , color=\"skyblue\", ax=axes[0, 0])\n",
    "sns.distplot( data[\"221085_at\"] , color=\"olive\", ax=axes[0, 1])\n",
    "sns.distplot( data[\"200660_at\"] , color=\"gold\", ax=axes[0, 2])\n",
    "sns.distplot( data[\"221111_at\"] , color=\"teal\", ax=axes[1, 0])\n",
    "sns.distplot( data[\"221165_s_at\"] , color=\"red\", ax=axes[1, 1])\n",
    "sns.distplot( data[\"221371_at\"] , color=\"green\", ax=axes[1, 2])"
   ]
  },
  {
   "cell_type": "markdown",
   "metadata": {},
   "source": [
    "### Seperate data into target and features"
   ]
  },
  {
   "cell_type": "code",
   "execution_count": 39,
   "metadata": {},
   "outputs": [],
   "source": [
    "# divide data into dependent (Y) and independent (X) data\n",
    "X = data.iloc[:,1:313]\n",
    "Y = data.iloc[:,0]"
   ]
  },
  {
   "cell_type": "code",
   "execution_count": 40,
   "metadata": {},
   "outputs": [
    {
     "name": "stdout",
     "output_type": "stream",
     "text": [
      "(100,) (25,)\n"
     ]
    }
   ],
   "source": [
    "# split data into training and testng data\n",
    "from sklearn.model_selection import train_test_split\n",
    "\n",
    "X_train, X_test,Y_train, Y_test = train_test_split(X,Y, test_size = 0.20)\n",
    "print(Y_train.shape, Y_test.shape)"
   ]
  },
  {
   "cell_type": "code",
   "execution_count": 41,
   "metadata": {},
   "outputs": [],
   "source": [
    "# Scale data \n",
    "from sklearn.preprocessing import StandardScaler\n",
    "scaler = StandardScaler()\n",
    "scaler.fit(X_train)\n",
    "X_train_scaled = scaler.transform(X_train)\n",
    "X_test_scaled = scaler.transform(X_test)"
   ]
  },
  {
   "cell_type": "markdown",
   "metadata": {},
   "source": [
    "### Apply PCA for data visualization"
   ]
  },
  {
   "cell_type": "code",
   "execution_count": 43,
   "metadata": {},
   "outputs": [
    {
     "name": "stdout",
     "output_type": "stream",
     "text": [
      "Original shape: (100, 312)\n",
      "Reduced shape: (100, 2)\n"
     ]
    }
   ],
   "source": [
    "#Apply PCA for data visualization\n",
    "from sklearn.decomposition import PCA\n",
    "# keep the first two principal components of the data\n",
    "pca = PCA(n_components=2)\n",
    "# fit PCA model\n",
    "pca.fit(X_train_scaled)\n",
    "# transform data onto the first two principal components\n",
    "X_pca = pca.transform(X_train_scaled)\n",
    "print(\"Original shape: {}\".format(str(X_train_scaled.shape)))\n",
    "print(\"Reduced shape: {}\".format(str(X_pca.shape)))"
   ]
  },
  {
   "cell_type": "code",
   "execution_count": 44,
   "metadata": {},
   "outputs": [
    {
     "data": {
      "text/plain": [
       "pandas.core.series.Series"
      ]
     },
     "execution_count": 44,
     "metadata": {},
     "output_type": "execute_result"
    }
   ],
   "source": [
    "type(Y_train)"
   ]
  },
  {
   "cell_type": "code",
   "execution_count": 45,
   "metadata": {},
   "outputs": [
    {
     "data": {
      "text/html": [
       "<div>\n",
       "<style scoped>\n",
       "    .dataframe tbody tr th:only-of-type {\n",
       "        vertical-align: middle;\n",
       "    }\n",
       "\n",
       "    .dataframe tbody tr th {\n",
       "        vertical-align: top;\n",
       "    }\n",
       "\n",
       "    .dataframe thead th {\n",
       "        text-align: right;\n",
       "    }\n",
       "</style>\n",
       "<table border=\"1\" class=\"dataframe\">\n",
       "  <thead>\n",
       "    <tr style=\"text-align: right;\">\n",
       "      <th></th>\n",
       "      <th>principal component 1</th>\n",
       "      <th>principal component 2</th>\n",
       "      <th>Group</th>\n",
       "    </tr>\n",
       "  </thead>\n",
       "  <tbody>\n",
       "    <tr>\n",
       "      <td>0</td>\n",
       "      <td>2.179740</td>\n",
       "      <td>-9.823182</td>\n",
       "      <td>1</td>\n",
       "    </tr>\n",
       "    <tr>\n",
       "      <td>1</td>\n",
       "      <td>0.734300</td>\n",
       "      <td>0.255567</td>\n",
       "      <td>0</td>\n",
       "    </tr>\n",
       "    <tr>\n",
       "      <td>2</td>\n",
       "      <td>-7.424269</td>\n",
       "      <td>-6.865465</td>\n",
       "      <td>0</td>\n",
       "    </tr>\n",
       "    <tr>\n",
       "      <td>3</td>\n",
       "      <td>4.783034</td>\n",
       "      <td>5.929466</td>\n",
       "      <td>2</td>\n",
       "    </tr>\n",
       "    <tr>\n",
       "      <td>4</td>\n",
       "      <td>-0.437071</td>\n",
       "      <td>-0.797282</td>\n",
       "      <td>1</td>\n",
       "    </tr>\n",
       "    <tr>\n",
       "      <td>5</td>\n",
       "      <td>-1.080937</td>\n",
       "      <td>-7.677535</td>\n",
       "      <td>1</td>\n",
       "    </tr>\n",
       "    <tr>\n",
       "      <td>6</td>\n",
       "      <td>-4.722883</td>\n",
       "      <td>-3.983888</td>\n",
       "      <td>0</td>\n",
       "    </tr>\n",
       "    <tr>\n",
       "      <td>7</td>\n",
       "      <td>-0.028979</td>\n",
       "      <td>-4.521646</td>\n",
       "      <td>1</td>\n",
       "    </tr>\n",
       "    <tr>\n",
       "      <td>8</td>\n",
       "      <td>-8.546960</td>\n",
       "      <td>6.804465</td>\n",
       "      <td>0</td>\n",
       "    </tr>\n",
       "    <tr>\n",
       "      <td>9</td>\n",
       "      <td>-5.671341</td>\n",
       "      <td>2.632635</td>\n",
       "      <td>0</td>\n",
       "    </tr>\n",
       "  </tbody>\n",
       "</table>\n",
       "</div>"
      ],
      "text/plain": [
       "   principal component 1  principal component 2  Group\n",
       "0               2.179740              -9.823182      1\n",
       "1               0.734300               0.255567      0\n",
       "2              -7.424269              -6.865465      0\n",
       "3               4.783034               5.929466      2\n",
       "4              -0.437071              -0.797282      1\n",
       "5              -1.080937              -7.677535      1\n",
       "6              -4.722883              -3.983888      0\n",
       "7              -0.028979              -4.521646      1\n",
       "8              -8.546960               6.804465      0\n",
       "9              -5.671341               2.632635      0"
      ]
     },
     "execution_count": 45,
     "metadata": {},
     "output_type": "execute_result"
    }
   ],
   "source": [
    "pca_df = pd.DataFrame(data = X_pca, columns = ['principal component 1', 'principal component 2'])\n",
    "pca_df['Group'] = Y_train.values\n",
    "pca_df.head(10)"
   ]
  },
  {
   "cell_type": "code",
   "execution_count": 46,
   "metadata": {},
   "outputs": [
    {
     "data": {
      "text/plain": [
       "<matplotlib.legend.Legend at 0x1db97be3308>"
      ]
     },
     "execution_count": 46,
     "metadata": {},
     "output_type": "execute_result"
    },
    {
     "data": {
      "image/png": "[encoded data removed]",
      "text/plain": [
       "<Figure size 360x360 with 1 Axes>"
      ]
     },
     "metadata": {
      "needs_background": "light"
     },
     "output_type": "display_data"
    }
   ],
   "source": [
    "sns.lmplot( x=\"principal component 1\", y=\"principal component 2\", data=pca_df, fit_reg=False, hue='Group',\n",
    "          legend=False)\n",
    "plt.legend(['CD', 'UC','Normal'])"
   ]
  },
  {
   "cell_type": "markdown",
   "metadata": {},
   "source": [
    "### Fit an SVM model with 10-fold cross validation"
   ]
  },
  {
   "cell_type": "code",
   "execution_count": 47,
   "metadata": {},
   "outputs": [
    {
     "name": "stdout",
     "output_type": "stream",
     "text": [
      "accuracy of the model :0.8121 +/- 0.0757\n"
     ]
    }
   ],
   "source": [
    "# fit SVM model\n",
    "from sklearn import svm\n",
    "from sklearn.model_selection import cross_val_score\n",
    "\n",
    "svc1 =svm.SVC(gamma='auto', kernel = 'rbf')\n",
    "scores = cross_val_score(estimator = svc1, X = X_train_scaled, y = Y_train, cv = 10)\n",
    "print(\"accuracy of the model :{:.4f} +/- {:.4f}\".format(scores.mean(), scores.std()))"
   ]
  },
  {
   "cell_type": "markdown",
   "metadata": {},
   "source": [
    "### Tune parameters of SVM model with grid search cv"
   ]
  },
  {
   "cell_type": "code",
   "execution_count": 48,
   "metadata": {},
   "outputs": [],
   "source": [
    "from sklearn.model_selection import GridSearchCV"
   ]
  },
  {
   "cell_type": "code",
   "execution_count": 49,
   "metadata": {},
   "outputs": [],
   "source": [
    "grid = {'C': [0.1, 1, 10, 100, 1000],\n",
    "       'gamma': [1, 0.1, 0.01, 0.001, 0.0001],\n",
    "       'kernel': ['rbf','linear','poly']}"
   ]
  },
  {
   "cell_type": "code",
   "execution_count": 50,
   "metadata": {},
   "outputs": [
    {
     "name": "stdout",
     "output_type": "stream",
     "text": [
      "Fitting 10 folds for each of 75 candidates, totalling 750 fits\n"
     ]
    },
    {
     "name": "stderr",
     "output_type": "stream",
     "text": [
      "[Parallel(n_jobs=3)]: Using backend LokyBackend with 3 concurrent workers.\n",
      "[Parallel(n_jobs=3)]: Done 241 tasks      | elapsed:    2.4s\n",
      "[Parallel(n_jobs=3)]: Done 750 out of 750 | elapsed:    4.2s finished\n"
     ]
    },
    {
     "data": {
      "text/plain": [
       "GridSearchCV(cv=10, error_score='raise-deprecating',\n",
       "             estimator=SVC(C=1.0, cache_size=200, class_weight=None, coef0=0.0,\n",
       "                           decision_function_shape='ovr', degree=3,\n",
       "                           gamma='auto_deprecated', kernel='rbf', max_iter=-1,\n",
       "                           probability=False, random_state=None, shrinking=True,\n",
       "                           tol=0.001, verbose=False),\n",
       "             iid=False, n_jobs=3,\n",
       "             param_grid={'C': [0.1, 1, 10, 100, 1000],\n",
       "                         'gamma': [1, 0.1, 0.01, 0.001, 0.0001],\n",
       "                         'kernel': ['rbf', 'linear', 'poly']},\n",
       "             pre_dispatch='2*n_jobs', refit=True, return_train_score=False,\n",
       "             scoring=None, verbose=2)"
      ]
     },
     "execution_count": 50,
     "metadata": {},
     "output_type": "execute_result"
    }
   ],
   "source": [
    "svm2 = svm.SVC()\n",
    "grid_search = GridSearchCV(estimator = svm2, param_grid = grid, \n",
    "                          cv = 10, n_jobs = 3, verbose = 2, iid = False)\n",
    "grid_search.fit(X_train_scaled, Y_train)"
   ]
  },
  {
   "cell_type": "code",
   "execution_count": 51,
   "metadata": {},
   "outputs": [
    {
     "data": {
      "text/plain": [
       "{'C': 0.1, 'gamma': 1, 'kernel': 'linear'}"
      ]
     },
     "execution_count": 51,
     "metadata": {},
     "output_type": "execute_result"
    }
   ],
   "source": [
    "grid_search.best_params_"
   ]
  },
  {
   "cell_type": "code",
   "execution_count": 52,
   "metadata": {},
   "outputs": [
    {
     "name": "stdout",
     "output_type": "stream",
     "text": [
      "accuracy of the model :0.9416 +/- 0.0629\n"
     ]
    }
   ],
   "source": [
    "best_grid = grid_search.best_estimator_\n",
    "scores = cross_val_score(estimator = best_grid, X = X_train_scaled, y = Y_train, cv = 10)\n",
    "print(\"accuracy of the model :{:.4f} +/- {:.4f}\".format(scores.mean(), scores.std()))"
   ]
  },
  {
   "cell_type": "markdown",
   "metadata": {},
   "source": [
    "### Predict for test data"
   ]
  },
  {
   "cell_type": "code",
   "execution_count": 53,
   "metadata": {},
   "outputs": [],
   "source": [
    "Y_pred = best_grid.predict(X_test_scaled)"
   ]
  },
  {
   "cell_type": "code",
   "execution_count": 54,
   "metadata": {},
   "outputs": [
    {
     "data": {
      "text/plain": [
       "array([[10,  0,  0],\n",
       "       [ 0,  8,  0],\n",
       "       [ 1,  1,  5]], dtype=int64)"
      ]
     },
     "execution_count": 54,
     "metadata": {},
     "output_type": "execute_result"
    }
   ],
   "source": [
    "from sklearn.metrics import confusion_matrix\n",
    "cm = confusion_matrix(Y_test, Y_pred)\n",
    "cm"
   ]
  },
  {
   "cell_type": "code",
   "execution_count": 55,
   "metadata": {},
   "outputs": [],
   "source": [
    "from sklearn.metrics import accuracy_score"
   ]
  },
  {
   "cell_type": "code",
   "execution_count": 56,
   "metadata": {},
   "outputs": [
    {
     "data": {
      "text/plain": [
       "0.92"
      ]
     },
     "execution_count": 56,
     "metadata": {},
     "output_type": "execute_result"
    }
   ],
   "source": [
    "accuracy_score(Y_test, Y_pred)"
   ]
  }
 ],
 "metadata": {
  "kernelspec": {
   "display_name": "Python [conda env:MLEnv] *",
   "language": "python",
   "name": "conda-env-MLEnv-py"
  },
  "language_info": {
   "codemirror_mode": {
    "name": "ipython",
    "version": 3
   },
   "file_extension": ".py",
   "mimetype": "text/x-python",
   "name": "python",
   "nbconvert_exporter": "python",
   "pygments_lexer": "ipython3",
   "version": "3.7.4"
  }
 },
 "nbformat": 4,
 "nbformat_minor": 2
}
